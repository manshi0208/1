{
 "cells": [
  {
   "cell_type": "markdown",
   "id": "32687444",
   "metadata": {},
   "source": [
    "###Python DS\n"
   ]
  },
  {
   "cell_type": "code",
   "execution_count": 57,
   "id": "d0e88a73",
   "metadata": {},
   "outputs": [
    {
     "name": "stdout",
     "output_type": "stream",
     "text": [
      "0    1\n",
      "1    2\n",
      "2    3\n",
      "3    4\n",
      "4    5\n",
      "dtype: int64\n",
      "1\n",
      "(5,)\n",
      "<class 'pandas.core.series.Series'>\n"
     ]
    },
    {
     "data": {
      "text/plain": [
       "1    2\n",
       "3    4\n",
       "dtype: int64"
      ]
     },
     "execution_count": 57,
     "metadata": {},
     "output_type": "execute_result"
    }
   ],
   "source": [
    "import pandas as pd\n",
    "ser = pd.Series([1,2,3,4,5])\n",
    "print(ser)\n",
    "a = ser.ndim\n",
    "print(a)\n",
    "b =ser.shape\n",
    "print(b)\n",
    "c = type(ser)\n",
    "print(c)\n",
    "ser[2]\n",
    "ser[1:4:2]#Slicing\n",
    "\n"
   ]
  }
 ],
 "metadata": {
  "kernelspec": {
   "display_name": "Python 3",
   "language": "python",
   "name": "python3"
  },
  "language_info": {
   "codemirror_mode": {
    "name": "ipython",
    "version": 3
   },
   "file_extension": ".py",
   "mimetype": "text/x-python",
   "name": "python",
   "nbconvert_exporter": "python",
   "pygments_lexer": "ipython3",
   "version": "3.13.1"
  }
 },
 "nbformat": 4,
 "nbformat_minor": 5
}
